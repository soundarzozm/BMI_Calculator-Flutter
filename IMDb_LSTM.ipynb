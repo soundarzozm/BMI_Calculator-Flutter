{
  "nbformat": 4,
  "nbformat_minor": 0,
  "metadata": {
    "colab": {
      "name": "IMDb LSTM.ipynb",
      "provenance": [],
      "collapsed_sections": [],
      "authorship_tag": "ABX9TyO1WEm9n8VjNRGv5mdUOPeE"
    },
    "kernelspec": {
      "name": "python3",
      "display_name": "Python 3"
    },
    "accelerator": "GPU"
  },
  "cells": [
    {
      "cell_type": "code",
      "metadata": {
        "id": "h-oaZcvOrtQ9",
        "colab_type": "code",
        "colab": {
          "base_uri": "https://localhost:8080/",
          "height": 52
        },
        "outputId": "70d1a8ac-da0c-4c03-f9d2-345d4952d5fe"
      },
      "source": [
        "import pandas as pd\n",
        "import numpy as np\n",
        "import tensorflow as tf\n",
        "print(tf.__version__)\n",
        "\"\"\"from pyspark import SparkContext, SparkConf\n",
        "from pyspark.sql import SparkSession\"\"\""
      ],
      "execution_count": 1,
      "outputs": [
        {
          "output_type": "stream",
          "text": [
            "2.3.0\n"
          ],
          "name": "stdout"
        },
        {
          "output_type": "execute_result",
          "data": {
            "application/vnd.google.colaboratory.intrinsic+json": {
              "type": "string"
            },
            "text/plain": [
              "'from pyspark import SparkContext, SparkConf\\nfrom pyspark.sql import SparkSession'"
            ]
          },
          "metadata": {
            "tags": []
          },
          "execution_count": 1
        }
      ]
    },
    {
      "cell_type": "code",
      "metadata": {
        "id": "5d7EVn-Vr8wq",
        "colab_type": "code",
        "colab": {
          "base_uri": "https://localhost:8080/",
          "height": 195
        },
        "outputId": "ccbd22d9-fab3-4f4d-a35b-33a9096f0b39"
      },
      "source": [
        "df = pd.read_csv(\"https://www.dropbox.com/s/bjk9tydkqrza8p8/IMDb_Reviews.csv?dl=1\")\n",
        "df.head()"
      ],
      "execution_count": 2,
      "outputs": [
        {
          "output_type": "execute_result",
          "data": {
            "text/html": [
              "<div>\n",
              "<style scoped>\n",
              "    .dataframe tbody tr th:only-of-type {\n",
              "        vertical-align: middle;\n",
              "    }\n",
              "\n",
              "    .dataframe tbody tr th {\n",
              "        vertical-align: top;\n",
              "    }\n",
              "\n",
              "    .dataframe thead th {\n",
              "        text-align: right;\n",
              "    }\n",
              "</style>\n",
              "<table border=\"1\" class=\"dataframe\">\n",
              "  <thead>\n",
              "    <tr style=\"text-align: right;\">\n",
              "      <th></th>\n",
              "      <th>review</th>\n",
              "      <th>sentiment</th>\n",
              "    </tr>\n",
              "  </thead>\n",
              "  <tbody>\n",
              "    <tr>\n",
              "      <th>0</th>\n",
              "      <td>My family and I normally do not watch local mo...</td>\n",
              "      <td>1</td>\n",
              "    </tr>\n",
              "    <tr>\n",
              "      <th>1</th>\n",
              "      <td>Believe it or not, this was at one time the wo...</td>\n",
              "      <td>0</td>\n",
              "    </tr>\n",
              "    <tr>\n",
              "      <th>2</th>\n",
              "      <td>After some internet surfing, I found the \"Home...</td>\n",
              "      <td>0</td>\n",
              "    </tr>\n",
              "    <tr>\n",
              "      <th>3</th>\n",
              "      <td>One of the most unheralded great works of anim...</td>\n",
              "      <td>1</td>\n",
              "    </tr>\n",
              "    <tr>\n",
              "      <th>4</th>\n",
              "      <td>It was the Sixties, and anyone with long hair ...</td>\n",
              "      <td>0</td>\n",
              "    </tr>\n",
              "  </tbody>\n",
              "</table>\n",
              "</div>"
            ],
            "text/plain": [
              "                                              review  sentiment\n",
              "0  My family and I normally do not watch local mo...          1\n",
              "1  Believe it or not, this was at one time the wo...          0\n",
              "2  After some internet surfing, I found the \"Home...          0\n",
              "3  One of the most unheralded great works of anim...          1\n",
              "4  It was the Sixties, and anyone with long hair ...          0"
            ]
          },
          "metadata": {
            "tags": []
          },
          "execution_count": 2
        }
      ]
    },
    {
      "cell_type": "code",
      "metadata": {
        "id": "G7fzxn8osQXa",
        "colab_type": "code",
        "colab": {}
      },
      "source": [
        "from sklearn.model_selection import train_test_split\n",
        "\n",
        "train_data, test_data = train_test_split(df, test_size=0.3, shuffle=True, random_state=2, stratify=df.sentiment)"
      ],
      "execution_count": 3,
      "outputs": []
    },
    {
      "cell_type": "code",
      "metadata": {
        "id": "xV_1PsljsU84",
        "colab_type": "code",
        "colab": {
          "base_uri": "https://localhost:8080/",
          "height": 134
        },
        "outputId": "0eb3e866-38db-4bae-aa2b-6fbd3ecfe308"
      },
      "source": [
        "print(train_data['sentiment'].value_counts())\n",
        "print('-'*100)\n",
        "print(test_data['sentiment'].value_counts())"
      ],
      "execution_count": 4,
      "outputs": [
        {
          "output_type": "stream",
          "text": [
            "1    17500\n",
            "0    17500\n",
            "Name: sentiment, dtype: int64\n",
            "----------------------------------------------------------------------------------------------------\n",
            "1    7500\n",
            "0    7500\n",
            "Name: sentiment, dtype: int64\n"
          ],
          "name": "stdout"
        }
      ]
    },
    {
      "cell_type": "code",
      "metadata": {
        "id": "878geyehsaMq",
        "colab_type": "code",
        "colab": {}
      },
      "source": [
        "training_sentences = []\n",
        "training_labels = []\n",
        "\n",
        "testing_sentences = []\n",
        "testing_labels = []\n",
        "\n",
        "training_sentences = np.array(train_data['review'])\n",
        "testing_sentences = np.array(test_data['review'])\n",
        "\n",
        "training_labels = np.array(train_data['sentiment'])\n",
        "testing_labels = np.array(test_data['sentiment'])"
      ],
      "execution_count": 5,
      "outputs": []
    },
    {
      "cell_type": "code",
      "metadata": {
        "id": "mpMn0JsXseAu",
        "colab_type": "code",
        "colab": {}
      },
      "source": [
        "vocab_size = 20000\n",
        "embedding_dim = 16\n",
        "max_length = 150\n",
        "trunc_type='post'\n",
        "oov_tok = \"<OOV>\"\n",
        "\n",
        "from tensorflow.keras.preprocessing.text import Tokenizer\n",
        "from tensorflow.keras.preprocessing.sequence import pad_sequences\n",
        "\n",
        "tokenizer = Tokenizer(num_words = vocab_size, oov_token=oov_tok)\n",
        "tokenizer.fit_on_texts(training_sentences)\n",
        "word_index = tokenizer.word_index\n",
        "sequences = tokenizer.texts_to_sequences(training_sentences)\n",
        "padded = pad_sequences(sequences, maxlen=max_length, truncating=trunc_type)\n",
        "\n",
        "testing_sequences = tokenizer.texts_to_sequences(testing_sentences)\n",
        "testing_padded = pad_sequences(testing_sequences, maxlen=max_length)"
      ],
      "execution_count": 6,
      "outputs": []
    },
    {
      "cell_type": "code",
      "metadata": {
        "id": "p9ok-BoXsiDA",
        "colab_type": "code",
        "colab": {
          "base_uri": "https://localhost:8080/",
          "height": 50
        },
        "outputId": "c3f4b013-89cf-4266-c34c-41377e4c59cb"
      },
      "source": [
        "print(word_index['hello'])\n",
        "print(word_index['awesome'])"
      ],
      "execution_count": 7,
      "outputs": [
        {
          "output_type": "stream",
          "text": [
            "5056\n",
            "1166\n"
          ],
          "name": "stdout"
        }
      ]
    },
    {
      "cell_type": "code",
      "metadata": {
        "id": "NjgEckruslhj",
        "colab_type": "code",
        "colab": {
          "base_uri": "https://localhost:8080/",
          "height": 54
        },
        "outputId": "abc4d0c8-083f-4d76-b36b-868abe8a0ff2"
      },
      "source": [
        "print(sequences[1])"
      ],
      "execution_count": 8,
      "outputs": [
        {
          "output_type": "stream",
          "text": [
            "[181, 799, 17, 3745, 97, 5, 12, 561, 692, 13, 2, 113, 14, 11388, 76, 133, 150, 627, 197, 4, 50, 118, 2, 1025, 14, 881, 220, 10, 91, 23, 528, 138, 11, 502, 379, 23, 49, 2, 476, 109, 14, 374, 11, 90, 121, 117, 34, 165, 41, 535, 769, 244, 37, 12, 3, 140, 62, 9873, 1, 1, 308, 12, 7, 3745, 207, 9, 7, 2511]\n"
          ],
          "name": "stdout"
        }
      ]
    },
    {
      "cell_type": "code",
      "metadata": {
        "id": "OsUzNuywsqf7",
        "colab_type": "code",
        "colab": {
          "base_uri": "https://localhost:8080/",
          "height": 370
        },
        "outputId": "e547c0ec-1a53-46e9-a143-2b6e53ffe415"
      },
      "source": [
        "print(padded[:20])\n",
        "print('-'*100)\n",
        "print(padded[1])"
      ],
      "execution_count": 9,
      "outputs": [
        {
          "output_type": "stream",
          "text": [
            "[[   11   215    12 ...     3   200     4]\n",
            " [    0     0     0 ...     9     7  2511]\n",
            " [ 9314     7  1166 ...  2557   135    13]\n",
            " ...\n",
            " [19414     1  1697 ...     1     6 12615]\n",
            " [  101   321     2 ...   205     3     2]\n",
            " [   12     7  4413 ...   201   330     8]]\n",
            "----------------------------------------------------------------------------------------------------\n",
            "[    0     0     0     0     0     0     0     0     0     0     0     0\n",
            "     0     0     0     0     0     0     0     0     0     0     0     0\n",
            "     0     0     0     0     0     0     0     0     0     0     0     0\n",
            "     0     0     0     0     0     0     0     0     0     0     0     0\n",
            "     0     0     0     0     0     0     0     0     0     0     0     0\n",
            "     0     0     0     0     0     0     0     0     0     0     0     0\n",
            "     0     0     0     0     0     0     0     0     0     0   181   799\n",
            "    17  3745    97     5    12   561   692    13     2   113    14 11388\n",
            "    76   133   150   627   197     4    50   118     2  1025    14   881\n",
            "   220    10    91    23   528   138    11   502   379    23    49     2\n",
            "   476   109    14   374    11    90   121   117    34   165    41   535\n",
            "   769   244    37    12     3   140    62  9873     1     1   308    12\n",
            "     7  3745   207     9     7  2511]\n"
          ],
          "name": "stdout"
        }
      ]
    },
    {
      "cell_type": "code",
      "metadata": {
        "id": "79JQGP__svzj",
        "colab_type": "code",
        "colab": {
          "base_uri": "https://localhost:8080/",
          "height": 87
        },
        "outputId": "f0e801fb-a63e-47f4-ac13-46253f16b30c"
      },
      "source": [
        "reverse_word_index = dict([(value, key) for (key, value) in word_index.items()])\n",
        "\n",
        "def decode_review(text):\n",
        "    return ' '.join([reverse_word_index.get(i, '?') for i in text])\n",
        "\n",
        "print(decode_review(padded[1]))\n",
        "print('-'*100)\n",
        "print(training_sentences[1])"
      ],
      "execution_count": 10,
      "outputs": [
        {
          "output_type": "stream",
          "text": [
            "? ? ? ? ? ? ? ? ? ? ? ? ? ? ? ? ? ? ? ? ? ? ? ? ? ? ? ? ? ? ? ? ? ? ? ? ? ? ? ? ? ? ? ? ? ? ? ? ? ? ? ? ? ? ? ? ? ? ? ? ? ? ? ? ? ? ? ? ? ? ? ? ? ? ? ? ? ? ? ? ? ? quite typical for swedish movies of this type strange that the acting was soooo bad these actors usually give a good show the casting was poorly done it made you expect something i won't tell you what the lead character was awful i don't know where they find her anyway stay away from this and go see den <OOV> <OOV> instead this is swedish action in is prime\n",
            "----------------------------------------------------------------------------------------------------\n",
            "Quite typical for swedish movies of this type. Strange that the acting was soooo bad, these actors usually give a good show. The casting was poorly done, it made you expect something (I won't tell you what). The lead character was awful... I don't know where they find her. Anyway, stay away from this and go see \"Den Tredje Vågen\" instead, this is swedish action in is prime.\n"
          ],
          "name": "stdout"
        }
      ]
    },
    {
      "cell_type": "code",
      "metadata": {
        "id": "EdbNeVous3v0",
        "colab_type": "code",
        "colab": {}
      },
      "source": [
        "class myCallback(tf.keras.callbacks.Callback):\n",
        "  def on_epoch_end(self, epoch, logs={}):\n",
        "    if(logs.get('accuracy')>0.95):\n",
        "      print(\"\\nReached 95.0% accuracy so cancelling training!\")\n",
        "      self.model.stop_training = True\n",
        "\n",
        "callbacks = myCallback() "
      ],
      "execution_count": 11,
      "outputs": []
    },
    {
      "cell_type": "code",
      "metadata": {
        "id": "eiTjKn2Ns-F5",
        "colab_type": "code",
        "colab": {
          "base_uri": "https://localhost:8080/",
          "height": 319
        },
        "outputId": "08d1d60e-d711-455d-b732-864a232ade25"
      },
      "source": [
        "model = tf.keras.Sequential([\n",
        "    tf.keras.layers.Embedding(vocab_size, embedding_dim, input_length=max_length),\n",
        "    #tf.keras.layers.Bidirectional(tf.keras.layers.GRU(128)),\n",
        "    tf.keras.layers.Bidirectional(tf.keras.layers.LSTM(128, return_sequences=True)),\n",
        "    tf.keras.layers.Bidirectional(tf.keras.layers.LSTM(32)),\n",
        "    tf.keras.layers.Dense(6, activation='relu'),\n",
        "    tf.keras.layers.Dense(1, activation='sigmoid')\n",
        "])\n",
        "\n",
        "optimizer = tf.keras.optimizers.Adam(lr=2e-3)\n",
        "\n",
        "model.compile(loss='binary_crossentropy', optimizer=optimizer, metrics=['accuracy'])\n",
        "model.summary()\n",
        "\n",
        "\n"
      ],
      "execution_count": 12,
      "outputs": [
        {
          "output_type": "stream",
          "text": [
            "Model: \"sequential\"\n",
            "_________________________________________________________________\n",
            "Layer (type)                 Output Shape              Param #   \n",
            "=================================================================\n",
            "embedding (Embedding)        (None, 150, 16)           320000    \n",
            "_________________________________________________________________\n",
            "bidirectional (Bidirectional (None, 150, 256)          148480    \n",
            "_________________________________________________________________\n",
            "bidirectional_1 (Bidirection (None, 64)                73984     \n",
            "_________________________________________________________________\n",
            "dense (Dense)                (None, 6)                 390       \n",
            "_________________________________________________________________\n",
            "dense_1 (Dense)              (None, 1)                 7         \n",
            "=================================================================\n",
            "Total params: 542,861\n",
            "Trainable params: 542,861\n",
            "Non-trainable params: 0\n",
            "_________________________________________________________________\n"
          ],
          "name": "stdout"
        }
      ]
    },
    {
      "cell_type": "code",
      "metadata": {
        "id": "U6c9UwQMYXCd",
        "colab_type": "code",
        "colab": {}
      },
      "source": [
        "lr_schedule = tf.keras.callbacks.LearningRateScheduler(\n",
        "    lambda epoch: 1e-3 * 10**(epoch / 20))"
      ],
      "execution_count": 13,
      "outputs": []
    },
    {
      "cell_type": "code",
      "metadata": {
        "id": "DW3MJcQStA2v",
        "colab_type": "code",
        "colab": {
          "base_uri": "https://localhost:8080/",
          "height": 252
        },
        "outputId": "79888bb1-671d-43ec-d136-8cc931f756db"
      },
      "source": [
        "num_epochs = 50\n",
        "history = model.fit(padded, training_labels, epochs=num_epochs, validation_data=(testing_padded, testing_labels), callbacks=[\n",
        "                                                                                                                             #lr_schedule, \n",
        "                                                                                                                             callbacks])"
      ],
      "execution_count": 14,
      "outputs": [
        {
          "output_type": "stream",
          "text": [
            "Epoch 1/50\n",
            "1094/1094 [==============================] - 36s 33ms/step - loss: 0.6206 - accuracy: 0.6560 - val_loss: 0.6303 - val_accuracy: 0.6329\n",
            "Epoch 2/50\n",
            "1094/1094 [==============================] - 35s 32ms/step - loss: 0.4924 - accuracy: 0.7648 - val_loss: 0.3536 - val_accuracy: 0.8437\n",
            "Epoch 3/50\n",
            "1094/1094 [==============================] - 35s 32ms/step - loss: 0.2837 - accuracy: 0.8861 - val_loss: 0.3406 - val_accuracy: 0.8613\n",
            "Epoch 4/50\n",
            "1094/1094 [==============================] - 35s 32ms/step - loss: 0.2067 - accuracy: 0.9225 - val_loss: 0.3571 - val_accuracy: 0.8602\n",
            "Epoch 5/50\n",
            "1094/1094 [==============================] - 36s 33ms/step - loss: 0.1620 - accuracy: 0.9422 - val_loss: 0.3426 - val_accuracy: 0.8657\n",
            "Epoch 6/50\n",
            "1093/1094 [============================>.] - ETA: 0s - loss: 0.1252 - accuracy: 0.9563\n",
            "Reached 95.0% accuracy so cancelling training!\n",
            "1094/1094 [==============================] - 36s 33ms/step - loss: 0.1251 - accuracy: 0.9563 - val_loss: 0.3922 - val_accuracy: 0.8627\n"
          ],
          "name": "stdout"
        }
      ]
    },
    {
      "cell_type": "code",
      "metadata": {
        "id": "8GzhJj3oYaVX",
        "colab_type": "code",
        "colab": {
          "base_uri": "https://localhost:8080/",
          "height": 35
        },
        "outputId": "f7d7e425-cc48-476b-8cd8-002ad65e7332"
      },
      "source": [
        "import matplotlib.pyplot as plt\n",
        "\"\"\"\n",
        "plt.semilogx(history.history[\"lr\"], history.history[\"loss\"])\n",
        "plt.axis([1e-3, 2e-3, 0, 2])\"\"\""
      ],
      "execution_count": 15,
      "outputs": [
        {
          "output_type": "execute_result",
          "data": {
            "application/vnd.google.colaboratory.intrinsic+json": {
              "type": "string"
            },
            "text/plain": [
              "'\\nplt.semilogx(history.history[\"lr\"], history.history[\"loss\"])\\nplt.axis([1e-3, 2e-3, 0, 2])'"
            ]
          },
          "metadata": {
            "tags": []
          },
          "execution_count": 15
        }
      ]
    },
    {
      "cell_type": "code",
      "metadata": {
        "id": "RJxguuCGtFPV",
        "colab_type": "code",
        "colab": {
          "base_uri": "https://localhost:8080/",
          "height": 541
        },
        "outputId": "35f315a3-b61d-438a-dedd-56cab856eea6"
      },
      "source": [
        "def plot_graphs(history, string):\n",
        "  plt.plot(history.history[string])\n",
        "  plt.plot(history.history['val_'+string])\n",
        "  plt.xlabel(\"Epochs\")\n",
        "  plt.ylabel(string)\n",
        "  plt.legend([string, 'val_'+string])\n",
        "  plt.show()\n",
        "\n",
        "plot_graphs(history, 'accuracy')\n",
        "plot_graphs(history, 'loss')"
      ],
      "execution_count": 16,
      "outputs": [
        {
          "output_type": "display_data",
          "data": {
            "image/png": "[encoded data removed]",
            "text/plain": [
              "<Figure size 432x288 with 1 Axes>"
            ]
          },
          "metadata": {
            "tags": [],
            "needs_background": "light"
          }
        },
        {
          "output_type": "display_data",
          "data": {
            "image/png": "[encoded data removed]",
            "text/plain": [
              "<Figure size 432x288 with 1 Axes>"
            ]
          },
          "metadata": {
            "tags": [],
            "needs_background": "light"
          }
        }
      ]
    },
    {
      "cell_type": "code",
      "metadata": {
        "id": "pBadgjbGtfqs",
        "colab_type": "code",
        "colab": {
          "base_uri": "https://localhost:8080/",
          "height": 34
        },
        "outputId": "7c20037b-1472-41c2-a7f0-25a6cbbc8404"
      },
      "source": [
        "e = model.layers[0]\n",
        "weights = e.get_weights()[0]\n",
        "print(weights.shape) "
      ],
      "execution_count": 17,
      "outputs": [
        {
          "output_type": "stream",
          "text": [
            "(20000, 16)\n"
          ],
          "name": "stdout"
        }
      ]
    },
    {
      "cell_type": "code",
      "metadata": {
        "id": "IaA8DX6x3uEm",
        "colab_type": "code",
        "colab": {}
      },
      "source": [
        "import io\n",
        "\n",
        "out_v = io.open('vecs.tsv', 'w', encoding='utf-8')\n",
        "out_m = io.open('meta.tsv', 'w', encoding='utf-8')\n",
        "for word_num in range(1, vocab_size):\n",
        "  word = reverse_word_index[word_num]\n",
        "  embeddings = weights[word_num]\n",
        "  out_m.write(word + \"\\n\")\n",
        "  out_v.write('\\t'.join([str(x) for x in embeddings]) + \"\\n\")\n",
        "out_v.close()\n",
        "out_m.close()"
      ],
      "execution_count": 18,
      "outputs": []
    },
    {
      "cell_type": "code",
      "metadata": {
        "id": "179tGH2I3yxu",
        "colab_type": "code",
        "colab": {
          "base_uri": "https://localhost:8080/",
          "height": 35
        },
        "outputId": "f27440e3-efd0-410f-c2df-d0327041e67b"
      },
      "source": [
        "\"\"\"try:\n",
        "  from google.colab import files\n",
        "except ImportError:\n",
        "  pass\n",
        "else:\n",
        "  files.download('vecs.tsv')\n",
        "  files.download('meta.tsv')\"\"\""
      ],
      "execution_count": 19,
      "outputs": [
        {
          "output_type": "execute_result",
          "data": {
            "application/vnd.google.colaboratory.intrinsic+json": {
              "type": "string"
            },
            "text/plain": [
              "\"try:\\n  from google.colab import files\\nexcept ImportError:\\n  pass\\nelse:\\n  files.download('vecs.tsv')\\n  files.download('meta.tsv')\""
            ]
          },
          "metadata": {
            "tags": []
          },
          "execution_count": 19
        }
      ]
    },
    {
      "cell_type": "code",
      "metadata": {
        "id": "5CqYmxoMgHtr",
        "colab_type": "code",
        "colab": {}
      },
      "source": [
        "def predict_sentiment(text, model):\n",
        "  testing_sentences=[]\n",
        "  testing_sentences.append(text)\n",
        "  testing_sentences = np.array(testing_sentences)\n",
        "  testing_sequences = tokenizer.texts_to_sequences(testing_sentences)\n",
        "  testing_padded = pad_sequences(testing_sequences, maxlen=max_length)\n",
        "  result = model.predict(testing_padded)\n",
        "  if result>0.5:\n",
        "    return \"Liked it!\", result\n",
        "  else:\n",
        "    return \"Didn't like it.\", result  \n",
        "  "
      ],
      "execution_count": 20,
      "outputs": []
    },
    {
      "cell_type": "code",
      "metadata": {
        "id": "y1FX6mIQgK9q",
        "colab_type": "code",
        "colab": {
          "base_uri": "https://localhost:8080/",
          "height": 34
        },
        "outputId": "3cc8be50-bd09-4c30-98cd-99500a88e35d"
      },
      "source": [
        "predict_sentiment(\"This movie was a waste of time!\", model)"
      ],
      "execution_count": 21,
      "outputs": [
        {
          "output_type": "execute_result",
          "data": {
            "text/plain": [
              "(\"Didn't like it.\", array([[0.01084226]], dtype=float32))"
            ]
          },
          "metadata": {
            "tags": []
          },
          "execution_count": 21
        }
      ]
    },
    {
      "cell_type": "code",
      "metadata": {
        "id": "U99ipMJ9hgze",
        "colab_type": "code",
        "colab": {
          "base_uri": "https://localhost:8080/",
          "height": 34
        },
        "outputId": "f6a9651b-4e8f-42f2-b0a6-17fddd25c5f7"
      },
      "source": [
        "predict_sentiment(\"This movie was terrific! I had a great time!\", model)"
      ],
      "execution_count": 22,
      "outputs": [
        {
          "output_type": "execute_result",
          "data": {
            "text/plain": [
              "('Liked it!', array([[0.97331154]], dtype=float32))"
            ]
          },
          "metadata": {
            "tags": []
          },
          "execution_count": 22
        }
      ]
    }
  ]
}